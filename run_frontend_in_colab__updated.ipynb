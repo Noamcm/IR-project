{
 "cells": [
  {
   "cell_type": "code",
   "execution_count": 1,
   "metadata": {
    "colab": {
     "base_uri": "https://localhost:8080/"
    },
    "executionInfo": {
     "elapsed": 1880,
     "status": "ok",
     "timestamp": 1641630924531,
     "user": {
      "displayName": "Noam Cohen Magori",
      "photoUrl": "https://lh3.googleusercontent.com/a/default-user=s64",
      "userId": "07857637196216163504"
     },
     "user_tz": -120
    },
    "id": "bCPDHP7zTQJZ",
    "outputId": "20333ac5-ccf6-43ff-9259-616fc437afc2"
   },
   "outputs": [],
   "source": [
    "# # download nltk stopwords\n",
    "# import nltk\n",
    "# nltk.download('stopwords')"
   ]
  },
  {
   "cell_type": "code",
   "execution_count": 2,
   "metadata": {
    "colab": {
     "base_uri": "https://localhost:8080/"
    },
    "executionInfo": {
     "elapsed": 12952,
     "status": "ok",
     "timestamp": 1641630937469,
     "user": {
      "displayName": "Noam Cohen Magori",
      "photoUrl": "https://lh3.googleusercontent.com/a/default-user=s64",
      "userId": "07857637196216163504"
     },
     "user_tz": -120
    },
    "id": "lAt6KT8xOgHH",
    "outputId": "15d77b52-ac0e-40b4-9200-48c06349f5bd"
   },
   "outputs": [],
   "source": [
    "# # Install a particular version of `google-cloud-storage` because (oddly enough) \n",
    "# # the  version on Colab and GCP is old. A dependency error below is okay.\n",
    "# !pip install -q google-cloud-storage==1.43.0"
   ]
  },
  {
   "cell_type": "code",
   "execution_count": 3,
   "metadata": {
    "executionInfo": {
     "elapsed": 17629,
     "status": "ok",
     "timestamp": 1641630955096,
     "user": {
      "displayName": "Noam Cohen Magori",
      "photoUrl": "https://lh3.googleusercontent.com/a/default-user=s64",
      "userId": "07857637196216163504"
     },
     "user_tz": -120
    },
    "id": "-oKFly5jFLFn"
   },
   "outputs": [],
   "source": [
    "# authenticate below for Google Storage access as needed\n",
    "# from google.colab import auth\n",
    "# auth.authenticate_user()"
   ]
  },
  {
   "cell_type": "code",
   "execution_count": 4,
   "metadata": {
    "colab": {
     "base_uri": "https://localhost:8080/"
    },
    "executionInfo": {
     "elapsed": 3058,
     "status": "ok",
     "timestamp": 1641630958139,
     "user": {
      "displayName": "Noam Cohen Magori",
      "photoUrl": "https://lh3.googleusercontent.com/a/default-user=s64",
      "userId": "07857637196216163504"
     },
     "user_tz": -120
    },
    "id": "FrBdFNYgiyab",
    "outputId": "c294578a-6487-4c63-d8d9-c715faa78392"
   },
   "outputs": [],
   "source": [
    "# # install ngrok to emulate public IP / address\n",
    "# !wget -N https://bin.equinox.io/c/4VmDzA7iaHb/ngrok-stable-linux-amd64.zip -O ngrok-stable-linux-amd64.zip\n",
    "# !unzip -u ngrok-stable-linux-amd64.zip"
   ]
  },
  {
   "cell_type": "code",
   "execution_count": 5,
   "metadata": {
    "colab": {
     "base_uri": "https://localhost:8080/"
    },
    "executionInfo": {
     "elapsed": 19,
     "status": "ok",
     "timestamp": 1641630958141,
     "user": {
      "displayName": "Noam Cohen Magori",
      "photoUrl": "https://lh3.googleusercontent.com/a/default-user=s64",
      "userId": "07857637196216163504"
     },
     "user_tz": -120
    },
    "id": "xA-_dKEZbsXW",
    "outputId": "362a8293-0c54-4895-f3fa-7cb15c5b7226"
   },
   "outputs": [],
   "source": [
    "# #TODO: sign up for an ngrok account then put your ngrok token below, uncomment, and execute\n",
    "# !./ngrok authtoken 23JsrQWoovIqKcwTbcDwQMmpaX0_4fisNQVeiNo3QKpjqf4tX"
   ]
  },
  {
   "cell_type": "code",
   "execution_count": 6,
   "metadata": {
    "colab": {
     "base_uri": "https://localhost:8080/"
    },
    "executionInfo": {
     "elapsed": 7518,
     "status": "ok",
     "timestamp": 1641630965652,
     "user": {
      "displayName": "Noam Cohen Magori",
      "photoUrl": "https://lh3.googleusercontent.com/a/default-user=s64",
      "userId": "07857637196216163504"
     },
     "user_tz": -120
    },
    "id": "nXn5PlyGORQr",
    "outputId": "1a9dc24e-3a33-46dc-e9bd-59fb3ff59550"
   },
   "outputs": [
    {
     "name": "stdout",
     "output_type": "stream",
     "text": [
      "\u001b[33mWARNING: Running pip as the 'root' user can result in broken permissions and conflicting behaviour with the system package manager. It is recommended to use a virtual environment instead: https://pip.pypa.io/warnings/venv\u001b[0m\n",
      "\u001b[33mWARNING: Running pip as the 'root' user can result in broken permissions and conflicting behaviour with the system package manager. It is recommended to use a virtual environment instead: https://pip.pypa.io/warnings/venv\u001b[0m\n"
     ]
    }
   ],
   "source": [
    "# install a ngrok python package and a version of flask that works with it in colab\n",
    "!pip -q install flask-ngrok\n",
    "!pip -q install flask==0.12.2\n",
    "# !pip -q install flask_restful"
   ]
  },
  {
   "cell_type": "markdown",
   "metadata": {
    "id": "fIXrn5ac7gfu"
   },
   "source": [
    "**OUR INSTALLS**\n"
   ]
  },
  {
   "cell_type": "code",
   "execution_count": 7,
   "metadata": {
    "colab": {
     "base_uri": "https://localhost:8080/"
    },
    "executionInfo": {
     "elapsed": 82109,
     "status": "ok",
     "timestamp": 1641631047752,
     "user": {
      "displayName": "Noam Cohen Magori",
      "photoUrl": "https://lh3.googleusercontent.com/a/default-user=s64",
      "userId": "07857637196216163504"
     },
     "user_tz": -120
    },
    "id": "FygDq4ob7kQS",
    "outputId": "26d1a225-dfee-49b0-ca3a-915f2a7fe71e"
   },
   "outputs": [],
   "source": [
    "# !pip install -q pyspark\n",
    "# !pip install -U -q PyDrive\n",
    "# !apt install openjdk-8-jdk-headless -qq\n",
    "# !pip install -q graphframes\n",
    "# !apt-get update -qq\n",
    "# !apt install openjdk-8-jdk-headless -qq\n"
   ]
  },
  {
   "cell_type": "code",
   "execution_count": 8,
   "metadata": {
    "executionInfo": {
     "elapsed": 347,
     "status": "ok",
     "timestamp": 1641631048088,
     "user": {
      "displayName": "Noam Cohen Magori",
      "photoUrl": "https://lh3.googleusercontent.com/a/default-user=s64",
      "userId": "07857637196216163504"
     },
     "user_tz": -120
    },
    "id": "RZdlv-TbCb-k"
   },
   "outputs": [],
   "source": [
    "# from collections import Counter, OrderedDict\n",
    "# from google.cloud import storage\n",
    "# from google.colab import auth\n",
    "# from graphframes import *\n",
    "# from inverted_index_colab import *\n",
    "# from itertools import islice, count, groupby\n",
    "# from nltk.corpus import stopwords\n",
    "# from nltk.stem.porter import *\n",
    "# from operator import itemgetter\n",
    "# from pathlib import Path\n",
    "# from pyspark import SparkContext, SparkConf\n",
    "# from pyspark.ml.feature import Tokenizer, RegexTokenizer\n",
    "# from pyspark.sql import *\n",
    "# from pyspark.sql import SQLContext\n",
    "# from pyspark.sql.functions import *\n",
    "# from time import time\n",
    "# from timeit import timeit\n",
    "# import builtins\n",
    "# import hashlib\n",
    "# import itertools\n",
    "# import math\n",
    "# import nltk\n",
    "# import numpy as np\n",
    "# import os\n",
    "# import pandas as pd\n",
    "# import pickle\n",
    "# import pyspark\n",
    "# import re\n",
    "# import sys"
   ]
  },
  {
   "cell_type": "markdown",
   "metadata": {
    "id": "Xq0lMeYIB8Hq"
   },
   "source": [
    "**index creation**"
   ]
  },
  {
   "cell_type": "code",
   "execution_count": 9,
   "metadata": {
    "colab": {
     "base_uri": "https://localhost:8080/"
    },
    "executionInfo": {
     "elapsed": 344,
     "status": "ok",
     "timestamp": 1641631048427,
     "user": {
      "displayName": "Noam Cohen Magori",
      "photoUrl": "https://lh3.googleusercontent.com/a/default-user=s64",
      "userId": "07857637196216163504"
     },
     "user_tz": -120
    },
    "id": "MngwNWveC0Tj",
    "outputId": "b7c9e406-6ad3-4cef-daa2-8d45396544cf"
   },
   "outputs": [],
   "source": [
    "# os.environ[\"JAVA_HOME\"] = \"/usr/lib/jvm/java-8-openjdk-amd64\"\n",
    "# graphframes_jar = 'https://repos.spark-packages.org/graphframes/graphframes/0.8.2-spark3.2-s_2.12/graphframes-0.8.2-spark3.2-s_2.12.jar'\n",
    "# spark_jars = '/usr/local/lib/python3.7/dist-packages/pyspark/jars'\n",
    "# !wget -N -P $spark_jars $graphframes_jar\n"
   ]
  },
  {
   "cell_type": "code",
   "execution_count": 10,
   "metadata": {
    "colab": {
     "base_uri": "https://localhost:8080/"
    },
    "executionInfo": {
     "elapsed": 13667,
     "status": "ok",
     "timestamp": 1641631062090,
     "user": {
      "displayName": "Noam Cohen Magori",
      "photoUrl": "https://lh3.googleusercontent.com/a/default-user=s64",
      "userId": "07857637196216163504"
     },
     "user_tz": -120
    },
    "id": "zYW8dDlHCrXM",
    "outputId": "f97cd32a-f583-474d-9d32-190ed5bf69dc"
   },
   "outputs": [],
   "source": [
    "# # def _hash(s):\n",
    "# #     return hashlib.blake2b(bytes(s, encoding='utf8'), digest_size=5).hexdigest()\n",
    "\n",
    "# nltk.download('stopwords')\n",
    "\n",
    "# # Initializing spark context\n",
    "# # create a spark context and session\n",
    "# conf = SparkConf().set(\"spark.ui.port\", \"4050\")\n",
    "# sc = pyspark.SparkContext(conf=conf)\n",
    "# sc.addPyFile(str(Path(spark_jars) / Path(graphframes_jar).name))\n",
    "# spark = SparkSession.builder.getOrCreate()\n",
    "\n",
    "# project_id = 'core-period-321814'\n",
    "# !gcloud config set project {project_id}\n",
    "\n",
    "# data_bucket_name = 'wikidata_preprocessed'\n",
    "# try:\n",
    "#     if os.environ[\"wikidata_preprocessed\"] is not None:\n",
    "#         pass  \n",
    "# except:\n",
    "#       !mkdir wikidumps\n",
    "#       !gsutil cp gs://{data_bucket_name}/multistream1_preprocessed.parquet \"wikidumps/\" \n"
   ]
  },
  {
   "cell_type": "code",
   "execution_count": 11,
   "metadata": {
    "executionInfo": {
     "elapsed": 12392,
     "status": "ok",
     "timestamp": 1641631074471,
     "user": {
      "displayName": "Noam Cohen Magori",
      "photoUrl": "https://lh3.googleusercontent.com/a/default-user=s64",
      "userId": "07857637196216163504"
     },
     "user_tz": -120
    },
    "id": "4tJEXsMGCX3P"
   },
   "outputs": [],
   "source": [
    "# from pathlib import Path \n",
    "# try:\n",
    "#     if os.environ[\"wikidata_preprocessed\"] is not None:\n",
    "#       path = os.environ[\"wikidata_preprocessed\"]+\"/wikidumps/*\"\n",
    "# except:\n",
    "#       path = \"wikidumps/*\"\n",
    "\n",
    "# parquetFile = spark.read.parquet(path)\n",
    "\n",
    "# doc_title_pairs = parquetFile.limit(1000).select(\"title\", \"id\").rdd\n",
    "# doc_text_pairs = parquetFile.limit(1000).select(\"text\", \"id\").rdd\n",
    "# doc_anchor_text_before = parquetFile.limit(1000).select(\"id\",\"anchor_text\").rdd\n",
    "# doc_anchor_text_pairs = (doc_anchor_text_before.map(lambda x: (map(lambda y: y[1],x[1]),x[0]))).map(lambda x: (\" \".join(x[0]),x[1]))"
   ]
  },
  {
   "cell_type": "code",
   "execution_count": 12,
   "metadata": {
    "executionInfo": {
     "elapsed": 59,
     "status": "ok",
     "timestamp": 1641631074473,
     "user": {
      "displayName": "Noam Cohen Magori",
      "photoUrl": "https://lh3.googleusercontent.com/a/default-user=s64",
      "userId": "07857637196216163504"
     },
     "user_tz": -120
    },
    "id": "l4in36zyzXZ5"
   },
   "outputs": [],
   "source": [
    "# !mkdir text title anchor search_text search_title"
   ]
  },
  {
   "cell_type": "markdown",
   "metadata": {
    "id": "6dW0y91OVu5J"
   },
   "source": [
    "# Run the app"
   ]
  },
  {
   "cell_type": "code",
   "execution_count": 13,
   "metadata": {},
   "outputs": [
    {
     "name": "stdout",
     "output_type": "stream",
     "text": [
      "inverted_index_gcp.py\r\n"
     ]
    }
   ],
   "source": [
    "from google.cloud import storage\n",
    "%cd -q /home/dataproc\n",
    "!ls inverted_index_gcp.py\n",
    "\n",
    "#!mkdir text title anchor search_text search_title\n",
    "from inverted_index_gcp import InvertedIndex\n",
    "\n",
    "bucket_name = 'ir-project-noam-and-shiri'"
   ]
  },
  {
   "cell_type": "code",
   "execution_count": 14,
   "metadata": {
    "executionInfo": {
     "elapsed": 62234,
     "status": "ok",
     "timestamp": 1641631136660,
     "user": {
      "displayName": "Noam Cohen Magori",
      "photoUrl": "https://lh3.googleusercontent.com/a/default-user=s64",
      "userId": "07857637196216163504"
     },
     "user_tz": -120
    },
    "id": "7opNkV6uRHIv"
   },
   "outputs": [],
   "source": [
    "# you need to upload your implementation of search_app.py\n",
    "import search_frontend as se\n",
    "#import search_backend as sb\n",
    "\n",
    "#sb.create_all_indexes(doc_title_pairs, doc_text_pairs, doc_anchor_text_pairs)\n"
   ]
  },
  {
   "cell_type": "code",
   "execution_count": 15,
   "metadata": {
    "executionInfo": {
     "elapsed": 64,
     "status": "ok",
     "timestamp": 1641631136662,
     "user": {
      "displayName": "Noam Cohen Magori",
      "photoUrl": "https://lh3.googleusercontent.com/a/default-user=s64",
      "userId": "07857637196216163504"
     },
     "user_tz": -120
    },
    "id": "oTGXXYEXV5l8"
   },
   "outputs": [],
   "source": [
    "# uncomment the code below and execute to reload the module when you make \n",
    "# changes to search_frontend.py (after you upload again).\n",
    "# import importlib\n",
    "# importlib.reload(sb)"
   ]
  },
  {
   "cell_type": "code",
   "execution_count": null,
   "metadata": {
    "colab": {
     "base_uri": "https://localhost:8080/"
    },
    "id": "J5n9u9rFP_wD",
    "outputId": "c5c44f01-1374-4db6-a4dc-becb2af2afe1"
   },
   "outputs": [
    {
     "name": "stderr",
     "output_type": "stream",
     "text": [
      " * Running on http://127.0.0.1:5000/ (Press CTRL+C to quit)\n"
     ]
    },
    {
     "name": "stdout",
     "output_type": "stream",
     "text": [
      " * Running on http://f904-35-223-249-82.ngrok.io\n",
      " * Traffic stats available on http://127.0.0.1:4040\n"
     ]
    },
    {
     "name": "stderr",
     "output_type": "stream",
     "text": [
      "127.0.0.1 - - [10/Jan/2022 10:27:01] \"GET /search_body?query=python HTTP/1.1\" 200 -\n",
      "127.0.0.1 - - [10/Jan/2022 10:27:03] \"GET /search_body?query=data+science HTTP/1.1\" 200 -\n",
      "127.0.0.1 - - [10/Jan/2022 10:27:03] \"GET /search_body?query=migraine HTTP/1.1\" 200 -\n",
      "127.0.0.1 - - [10/Jan/2022 10:27:03] \"GET /search_body?query=chocolate HTTP/1.1\" 200 -\n",
      "127.0.0.1 - - [10/Jan/2022 10:27:05] \"GET /search_body?query=how+to+make+pasta HTTP/1.1\" 200 -\n",
      "127.0.0.1 - - [10/Jan/2022 10:27:06] \"GET /search_body?query=Does+pasta+have+preservatives%3F HTTP/1.1\" 200 -\n",
      "127.0.0.1 - - [10/Jan/2022 10:27:08] \"GET /search_body?query=how+google+works HTTP/1.1\" 200 -\n",
      "127.0.0.1 - - [10/Jan/2022 10:27:09] \"GET /search_body?query=what+is+information+retrieval HTTP/1.1\" 200 -\n",
      "127.0.0.1 - - [10/Jan/2022 10:27:10] \"GET /search_body?query=NBA HTTP/1.1\" 200 -\n",
      "127.0.0.1 - - [10/Jan/2022 10:27:10] \"GET /search_body?query=yoga HTTP/1.1\" 200 -\n",
      "127.0.0.1 - - [10/Jan/2022 10:27:11] \"GET /search_body?query=how+to+not+kill+plants HTTP/1.1\" 200 -\n",
      "127.0.0.1 - - [10/Jan/2022 10:27:11] \"GET /search_body?query=masks HTTP/1.1\" 200 -\n",
      "127.0.0.1 - - [10/Jan/2022 10:27:13] \"GET /search_body?query=black+friday HTTP/1.1\" 200 -\n",
      "127.0.0.1 - - [10/Jan/2022 10:27:15] \"GET /search_body?query=why+do+men+have+nipples HTTP/1.1\" 200 -\n",
      "127.0.0.1 - - [10/Jan/2022 10:27:15] \"GET /search_body?query=rubber+duck HTTP/1.1\" 200 -\n",
      "127.0.0.1 - - [10/Jan/2022 10:27:16] \"GET /search_body?query=michelin HTTP/1.1\" 200 -\n",
      "127.0.0.1 - - [10/Jan/2022 10:27:16] \"GET /search_body?query=what+to+watch HTTP/1.1\" 200 -\n",
      "127.0.0.1 - - [10/Jan/2022 10:27:19] \"GET /search_body?query=best+marvel+movie HTTP/1.1\" 200 -\n",
      "127.0.0.1 - - [10/Jan/2022 10:27:21] \"GET /search_body?query=how+tall+is+the+eiffel+tower HTTP/1.1\" 200 -\n",
      "127.0.0.1 - - [10/Jan/2022 10:27:22] \"GET /search_body?query=where+does+vanilla+flavoring+come+from HTTP/1.1\" 200 -\n",
      "127.0.0.1 - - [10/Jan/2022 10:27:25] \"GET /search_body?query=best+ice+cream+flavour HTTP/1.1\" 200 -\n",
      "127.0.0.1 - - [10/Jan/2022 10:27:26] \"GET /search_body?query=how+to+tie+a+tie HTTP/1.1\" 200 -\n",
      "127.0.0.1 - - [10/Jan/2022 10:27:28] \"GET /search_body?query=how+to+earn+money+online HTTP/1.1\" 200 -\n",
      "127.0.0.1 - - [10/Jan/2022 10:27:30] \"GET /search_body?query=what+is+critical+race+theory HTTP/1.1\" 200 -\n",
      "127.0.0.1 - - [10/Jan/2022 10:27:38] \"GET /search_body?query=what+space+movie+was+made+in+1992 HTTP/1.1\" 200 -\n",
      "127.0.0.1 - - [10/Jan/2022 10:27:38] \"GET /search_body?query=how+to+vote HTTP/1.1\" 200 -\n",
      "127.0.0.1 - - [10/Jan/2022 10:27:39] \"GET /search_body?query=google+trends HTTP/1.1\" 200 -\n",
      "127.0.0.1 - - [10/Jan/2022 10:27:39] \"GET /search_body?query=dim+sum HTTP/1.1\" 200 -\n",
      "127.0.0.1 - - [10/Jan/2022 10:27:40] \"GET /search_body?query=ted HTTP/1.1\" 200 -\n",
      "127.0.0.1 - - [10/Jan/2022 10:27:40] \"GET /search_body?query=fairy+tale HTTP/1.1\" 200 -\n",
      "127.0.0.1 - - [10/Jan/2022 10:29:00] \"GET /search?query=python HTTP/1.1\" 200 -\n",
      "127.0.0.1 - - [10/Jan/2022 10:29:10] \"GET /search?query=data+science HTTP/1.1\" 200 -\n",
      "127.0.0.1 - - [10/Jan/2022 10:29:14] \"GET /search?query=migraine HTTP/1.1\" 200 -\n",
      "127.0.0.1 - - [10/Jan/2022 10:29:18] \"GET /search?query=chocolate HTTP/1.1\" 200 -\n",
      "127.0.0.1 - - [10/Jan/2022 10:29:26] \"GET /search?query=how+to+make+pasta HTTP/1.1\" 200 -\n",
      "127.0.0.1 - - [10/Jan/2022 10:29:31] \"GET /search?query=Does+pasta+have+preservatives%3F HTTP/1.1\" 200 -\n",
      "127.0.0.1 - - [10/Jan/2022 10:29:39] \"GET /search?query=how+google+works HTTP/1.1\" 200 -\n",
      "127.0.0.1 - - [10/Jan/2022 10:29:46] \"GET /search?query=what+is+information+retrieval HTTP/1.1\" 200 -\n",
      "127.0.0.1 - - [10/Jan/2022 10:29:50] \"GET /search?query=NBA HTTP/1.1\" 200 -\n",
      "127.0.0.1 - - [10/Jan/2022 10:29:55] \"GET /search?query=yoga HTTP/1.1\" 200 -\n",
      "127.0.0.1 - - [10/Jan/2022 10:30:03] \"GET /search?query=how+to+not+kill+plants HTTP/1.1\" 200 -\n",
      "127.0.0.1 - - [10/Jan/2022 10:30:07] \"GET /search?query=masks HTTP/1.1\" 200 -\n",
      "127.0.0.1 - - [10/Jan/2022 10:30:16] \"GET /search?query=black+friday HTTP/1.1\" 200 -\n",
      "127.0.0.1 - - [10/Jan/2022 10:30:21] \"GET /search?query=why+do+men+have+nipples HTTP/1.1\" 200 -\n",
      "127.0.0.1 - - [10/Jan/2022 10:30:29] \"GET /search?query=rubber+duck HTTP/1.1\" 200 -\n",
      "127.0.0.1 - - [10/Jan/2022 10:30:34] \"GET /search?query=michelin HTTP/1.1\" 200 -\n",
      "127.0.0.1 - - [10/Jan/2022 10:30:38] \"GET /search?query=what+to+watch HTTP/1.1\" 200 -\n",
      "127.0.0.1 - - [10/Jan/2022 10:30:53] \"GET /search?query=best+marvel+movie HTTP/1.1\" 200 -\n",
      "127.0.0.1 - - [10/Jan/2022 10:31:04] \"GET /search?query=how+tall+is+the+eiffel+tower HTTP/1.1\" 200 -\n",
      "127.0.0.1 - - [10/Jan/2022 10:31:13] \"GET /search?query=where+does+vanilla+flavoring+come+from HTTP/1.1\" 200 -\n",
      "127.0.0.1 - - [10/Jan/2022 10:31:32] \"GET /search?query=best+ice+cream+flavour HTTP/1.1\" 200 -\n",
      "127.0.0.1 - - [10/Jan/2022 10:31:37] \"GET /search?query=how+to+tie+a+tie HTTP/1.1\" 200 -\n",
      "127.0.0.1 - - [10/Jan/2022 10:31:48] \"GET /search?query=how+to+earn+money+online HTTP/1.1\" 200 -\n",
      "127.0.0.1 - - [10/Jan/2022 10:32:02] \"GET /search?query=what+is+critical+race+theory HTTP/1.1\" 200 -\n",
      "127.0.0.1 - - [10/Jan/2022 10:32:27] \"GET /search?query=what+space+movie+was+made+in+1992 HTTP/1.1\" 200 -\n",
      "127.0.0.1 - - [10/Jan/2022 10:32:32] \"GET /search?query=how+to+vote HTTP/1.1\" 200 -\n",
      "127.0.0.1 - - [10/Jan/2022 10:32:38] \"GET /search?query=google+trends HTTP/1.1\" 200 -\n",
      "127.0.0.1 - - [10/Jan/2022 10:32:45] \"GET /search?query=dim+sum HTTP/1.1\" 200 -\n",
      "127.0.0.1 - - [10/Jan/2022 10:32:50] \"GET /search?query=ted HTTP/1.1\" 200 -\n",
      "127.0.0.1 - - [10/Jan/2022 10:32:57] \"GET /search?query=fairy+tale HTTP/1.1\" 200 -\n",
      "127.0.0.1 - - [10/Jan/2022 10:35:25] \"GET /search_title?query=python HTTP/1.1\" 200 -\n",
      "127.0.0.1 - - [10/Jan/2022 10:35:25] \"GET /search_title?query=data+science HTTP/1.1\" 200 -\n",
      "127.0.0.1 - - [10/Jan/2022 10:35:25] \"GET /search_title?query=migraine HTTP/1.1\" 200 -\n",
      "127.0.0.1 - - [10/Jan/2022 10:35:26] \"GET /search_title?query=chocolate HTTP/1.1\" 200 -\n",
      "127.0.0.1 - - [10/Jan/2022 10:35:26] \"GET /search_title?query=how+to+make+pasta HTTP/1.1\" 200 -\n",
      "127.0.0.1 - - [10/Jan/2022 10:35:26] \"GET /search_title?query=Does+pasta+have+preservatives%3F HTTP/1.1\" 200 -\n",
      "127.0.0.1 - - [10/Jan/2022 10:35:26] \"GET /search_title?query=how+google+works HTTP/1.1\" 200 -\n",
      "127.0.0.1 - - [10/Jan/2022 10:35:27] \"GET /search_title?query=what+is+information+retrieval HTTP/1.1\" 200 -\n",
      "127.0.0.1 - - [10/Jan/2022 10:35:27] \"GET /search_title?query=NBA HTTP/1.1\" 200 -\n",
      "127.0.0.1 - - [10/Jan/2022 10:35:27] \"GET /search_title?query=yoga HTTP/1.1\" 200 -\n",
      "127.0.0.1 - - [10/Jan/2022 10:35:27] \"GET /search_title?query=how+to+not+kill+plants HTTP/1.1\" 200 -\n",
      "127.0.0.1 - - [10/Jan/2022 10:35:28] \"GET /search_title?query=masks HTTP/1.1\" 200 -\n",
      "127.0.0.1 - - [10/Jan/2022 10:35:28] \"GET /search_title?query=black+friday HTTP/1.1\" 200 -\n",
      "127.0.0.1 - - [10/Jan/2022 10:35:28] \"GET /search_title?query=why+do+men+have+nipples HTTP/1.1\" 200 -\n",
      "127.0.0.1 - - [10/Jan/2022 10:35:29] \"GET /search_title?query=rubber+duck HTTP/1.1\" 200 -\n",
      "127.0.0.1 - - [10/Jan/2022 10:35:29] \"GET /search_title?query=michelin HTTP/1.1\" 200 -\n",
      "127.0.0.1 - - [10/Jan/2022 10:35:29] \"GET /search_title?query=what+to+watch HTTP/1.1\" 200 -\n",
      "127.0.0.1 - - [10/Jan/2022 10:35:29] \"GET /search_title?query=best+marvel+movie HTTP/1.1\" 200 -\n",
      "127.0.0.1 - - [10/Jan/2022 10:35:30] \"GET /search_title?query=how+tall+is+the+eiffel+tower HTTP/1.1\" 200 -\n",
      "127.0.0.1 - - [10/Jan/2022 10:35:30] \"GET /search_title?query=where+does+vanilla+flavoring+come+from HTTP/1.1\" 200 -\n",
      "127.0.0.1 - - [10/Jan/2022 10:35:31] \"GET /search_title?query=best+ice+cream+flavour HTTP/1.1\" 200 -\n",
      "127.0.0.1 - - [10/Jan/2022 10:35:31] \"GET /search_title?query=how+to+tie+a+tie HTTP/1.1\" 200 -\n",
      "127.0.0.1 - - [10/Jan/2022 10:35:32] \"GET /search_title?query=how+to+earn+money+online HTTP/1.1\" 200 -\n",
      "127.0.0.1 - - [10/Jan/2022 10:35:32] \"GET /search_title?query=what+is+critical+race+theory HTTP/1.1\" 200 -\n",
      "127.0.0.1 - - [10/Jan/2022 10:35:33] \"GET /search_title?query=what+space+movie+was+made+in+1992 HTTP/1.1\" 200 -\n",
      "127.0.0.1 - - [10/Jan/2022 10:35:33] \"GET /search_title?query=how+to+vote HTTP/1.1\" 200 -\n",
      "127.0.0.1 - - [10/Jan/2022 10:35:34] \"GET /search_title?query=google+trends HTTP/1.1\" 200 -\n",
      "127.0.0.1 - - [10/Jan/2022 10:35:34] \"GET /search_title?query=dim+sum HTTP/1.1\" 200 -\n",
      "127.0.0.1 - - [10/Jan/2022 10:35:34] \"GET /search_title?query=ted HTTP/1.1\" 200 -\n"
     ]
    },
    {
     "name": "stderr",
     "output_type": "stream",
     "text": [
      "127.0.0.1 - - [10/Jan/2022 10:35:34] \"GET /search_title?query=fairy+tale HTTP/1.1\" 200 -\n",
      "127.0.0.1 - - [10/Jan/2022 10:36:56] \"GET /search_anchor?query=python HTTP/1.1\" 200 -\n",
      "127.0.0.1 - - [10/Jan/2022 10:36:58] \"GET /search_anchor?query=data+science HTTP/1.1\" 200 -\n",
      "127.0.0.1 - - [10/Jan/2022 10:36:59] \"GET /search_anchor?query=migraine HTTP/1.1\" 200 -\n",
      "127.0.0.1 - - [10/Jan/2022 10:36:59] \"GET /search_anchor?query=chocolate HTTP/1.1\" 200 -\n",
      "127.0.0.1 - - [10/Jan/2022 10:37:00] \"GET /search_anchor?query=how+to+make+pasta HTTP/1.1\" 200 -\n",
      "127.0.0.1 - - [10/Jan/2022 10:37:00] \"GET /search_anchor?query=Does+pasta+have+preservatives%3F HTTP/1.1\" 200 -\n",
      "127.0.0.1 - - [10/Jan/2022 10:37:00] \"GET /search_anchor?query=how+google+works HTTP/1.1\" 200 -\n",
      "127.0.0.1 - - [10/Jan/2022 10:37:01] \"GET /search_anchor?query=what+is+information+retrieval HTTP/1.1\" 200 -\n",
      "127.0.0.1 - - [10/Jan/2022 10:37:02] \"GET /search_anchor?query=NBA HTTP/1.1\" 200 -\n",
      "127.0.0.1 - - [10/Jan/2022 10:37:02] \"GET /search_anchor?query=yoga HTTP/1.1\" 200 -\n",
      "127.0.0.1 - - [10/Jan/2022 10:37:03] \"GET /search_anchor?query=how+to+not+kill+plants HTTP/1.1\" 200 -\n",
      "127.0.0.1 - - [10/Jan/2022 10:37:03] \"GET /search_anchor?query=masks HTTP/1.1\" 200 -\n",
      "127.0.0.1 - - [10/Jan/2022 10:37:04] \"GET /search_anchor?query=black+friday HTTP/1.1\" 200 -\n",
      "127.0.0.1 - - [10/Jan/2022 10:37:06] \"GET /search_anchor?query=why+do+men+have+nipples HTTP/1.1\" 200 -\n",
      "127.0.0.1 - - [10/Jan/2022 10:37:07] \"GET /search_anchor?query=rubber+duck HTTP/1.1\" 200 -\n",
      "127.0.0.1 - - [10/Jan/2022 10:37:07] \"GET /search_anchor?query=michelin HTTP/1.1\" 200 -\n",
      "127.0.0.1 - - [10/Jan/2022 10:37:07] \"GET /search_anchor?query=what+to+watch HTTP/1.1\" 200 -\n",
      "127.0.0.1 - - [10/Jan/2022 10:37:09] \"GET /search_anchor?query=best+marvel+movie HTTP/1.1\" 200 -\n",
      "127.0.0.1 - - [10/Jan/2022 10:37:11] \"GET /search_anchor?query=how+tall+is+the+eiffel+tower HTTP/1.1\" 200 -\n",
      "127.0.0.1 - - [10/Jan/2022 10:37:12] \"GET /search_anchor?query=where+does+vanilla+flavoring+come+from HTTP/1.1\" 200 -\n",
      "127.0.0.1 - - [10/Jan/2022 10:37:13] \"GET /search_anchor?query=best+ice+cream+flavour HTTP/1.1\" 200 -\n",
      "127.0.0.1 - - [10/Jan/2022 10:37:15] \"GET /search_anchor?query=how+to+tie+a+tie HTTP/1.1\" 200 -\n",
      "127.0.0.1 - - [10/Jan/2022 10:37:16] \"GET /search_anchor?query=how+to+earn+money+online HTTP/1.1\" 200 -\n",
      "127.0.0.1 - - [10/Jan/2022 10:37:17] \"GET /search_anchor?query=what+is+critical+race+theory HTTP/1.1\" 200 -\n",
      "127.0.0.1 - - [10/Jan/2022 10:37:19] \"GET /search_anchor?query=what+space+movie+was+made+in+1992 HTTP/1.1\" 200 -\n",
      "127.0.0.1 - - [10/Jan/2022 10:37:21] \"GET /search_anchor?query=how+to+vote HTTP/1.1\" 200 -\n",
      "127.0.0.1 - - [10/Jan/2022 10:37:22] \"GET /search_anchor?query=google+trends HTTP/1.1\" 200 -\n",
      "127.0.0.1 - - [10/Jan/2022 10:37:22] \"GET /search_anchor?query=dim+sum HTTP/1.1\" 200 -\n",
      "127.0.0.1 - - [10/Jan/2022 10:37:23] \"GET /search_anchor?query=ted HTTP/1.1\" 200 -\n",
      "127.0.0.1 - - [10/Jan/2022 10:37:24] \"GET /search_anchor?query=fairy+tale HTTP/1.1\" 200 -\n",
      "127.0.0.1 - - [10/Jan/2022 10:40:25] \"GET /get_pagerank?query=python HTTP/1.1\" 405 -\n",
      "127.0.0.1 - - [10/Jan/2022 10:40:25] \"GET /get_pagerank?query=data+science HTTP/1.1\" 405 -\n",
      "127.0.0.1 - - [10/Jan/2022 10:40:25] \"GET /get_pagerank?query=migraine HTTP/1.1\" 405 -\n",
      "127.0.0.1 - - [10/Jan/2022 10:40:25] \"GET /get_pagerank?query=chocolate HTTP/1.1\" 405 -\n",
      "127.0.0.1 - - [10/Jan/2022 10:40:25] \"GET /get_pagerank?query=how+to+make+pasta HTTP/1.1\" 405 -\n",
      "127.0.0.1 - - [10/Jan/2022 10:40:25] \"GET /get_pagerank?query=Does+pasta+have+preservatives%3F HTTP/1.1\" 405 -\n",
      "127.0.0.1 - - [10/Jan/2022 10:40:25] \"GET /get_pagerank?query=how+google+works HTTP/1.1\" 405 -\n",
      "127.0.0.1 - - [10/Jan/2022 10:40:25] \"GET /get_pagerank?query=what+is+information+retrieval HTTP/1.1\" 405 -\n",
      "127.0.0.1 - - [10/Jan/2022 10:40:26] \"GET /get_pagerank?query=NBA HTTP/1.1\" 405 -\n",
      "127.0.0.1 - - [10/Jan/2022 10:40:26] \"GET /get_pagerank?query=yoga HTTP/1.1\" 405 -\n",
      "127.0.0.1 - - [10/Jan/2022 10:40:26] \"GET /get_pagerank?query=how+to+not+kill+plants HTTP/1.1\" 405 -\n",
      "127.0.0.1 - - [10/Jan/2022 10:40:26] \"GET /get_pagerank?query=masks HTTP/1.1\" 405 -\n",
      "127.0.0.1 - - [10/Jan/2022 10:40:26] \"GET /get_pagerank?query=black+friday HTTP/1.1\" 405 -\n",
      "127.0.0.1 - - [10/Jan/2022 10:40:26] \"GET /get_pagerank?query=why+do+men+have+nipples HTTP/1.1\" 405 -\n",
      "127.0.0.1 - - [10/Jan/2022 10:40:26] \"GET /get_pagerank?query=rubber+duck HTTP/1.1\" 405 -\n",
      "127.0.0.1 - - [10/Jan/2022 10:40:26] \"GET /get_pagerank?query=michelin HTTP/1.1\" 405 -\n",
      "127.0.0.1 - - [10/Jan/2022 10:40:26] \"GET /get_pagerank?query=what+to+watch HTTP/1.1\" 405 -\n",
      "127.0.0.1 - - [10/Jan/2022 10:40:26] \"GET /get_pagerank?query=best+marvel+movie HTTP/1.1\" 405 -\n",
      "127.0.0.1 - - [10/Jan/2022 10:40:26] \"GET /get_pagerank?query=how+tall+is+the+eiffel+tower HTTP/1.1\" 405 -\n",
      "127.0.0.1 - - [10/Jan/2022 10:40:27] \"GET /get_pagerank?query=where+does+vanilla+flavoring+come+from HTTP/1.1\" 405 -\n",
      "127.0.0.1 - - [10/Jan/2022 10:40:27] \"GET /get_pagerank?query=best+ice+cream+flavour HTTP/1.1\" 405 -\n",
      "127.0.0.1 - - [10/Jan/2022 10:40:27] \"GET /get_pagerank?query=how+to+tie+a+tie HTTP/1.1\" 405 -\n",
      "127.0.0.1 - - [10/Jan/2022 10:40:27] \"GET /get_pagerank?query=how+to+earn+money+online HTTP/1.1\" 405 -\n",
      "127.0.0.1 - - [10/Jan/2022 10:40:27] \"GET /get_pagerank?query=what+is+critical+race+theory HTTP/1.1\" 405 -\n",
      "127.0.0.1 - - [10/Jan/2022 10:40:27] \"GET /get_pagerank?query=what+space+movie+was+made+in+1992 HTTP/1.1\" 405 -\n",
      "127.0.0.1 - - [10/Jan/2022 10:40:27] \"GET /get_pagerank?query=how+to+vote HTTP/1.1\" 405 -\n",
      "127.0.0.1 - - [10/Jan/2022 10:40:27] \"GET /get_pagerank?query=google+trends HTTP/1.1\" 405 -\n",
      "127.0.0.1 - - [10/Jan/2022 10:40:27] \"GET /get_pagerank?query=dim+sum HTTP/1.1\" 405 -\n",
      "127.0.0.1 - - [10/Jan/2022 10:40:27] \"GET /get_pagerank?query=ted HTTP/1.1\" 405 -\n",
      "127.0.0.1 - - [10/Jan/2022 10:40:28] \"GET /get_pagerank?query=fairy+tale HTTP/1.1\" 405 -\n"
     ]
    }
   ],
   "source": [
    "from flask_ngrok import run_with_ngrok\n",
    "run_with_ngrok(se.app)\n",
    "se.app.run()"
   ]
  },
  {
   "cell_type": "markdown",
   "metadata": {
    "id": "Na0MC_1nzDbi"
   },
   "source": [
    "# Testing your app\n",
    "\n",
    "Once your app is running you can query it. You can simply do that by navigating to the URL that ngrok gave you above or through code in a different python session. For example, once the frontend app is running, you can navigate to:\n",
    "http://YOUR_SERVER_DOMAIN/search?query=hello+world where YOUR_SERVER_DOMAIN is something like XXXX-XX-XX-XX-XX.ngrok.io, which is printed above in Colab or that is your external IP on GCP.\n",
    "\n",
    "The code below shows how to issue a query from python. This is also how our testing code will issue queries to your search engine, so make sure to test your search engine this way after you deploy it to GCP and before submission. Command line instructions for deploying your search engine to GCP are available at `run_frontend_in_gcp.sh`. Note that we will not only issue training queries to your search engine, but also test queries, i.e. queries that you've never seen before."
   ]
  },
  {
   "cell_type": "code",
   "execution_count": null,
   "metadata": {
    "id": "EM5ePrRHojbG"
   },
   "outputs": [],
   "source": [
    "import json\n",
    "\n",
    "with open('queries_train.json', 'rt') as f:\n",
    "  queries = json.load(f)"
   ]
  },
  {
   "cell_type": "code",
   "execution_count": null,
   "metadata": {
    "id": "gWimZWCOy3Ei"
   },
   "outputs": [],
   "source": [
    "def average_precision(true_list, predicted_list, k=40):\n",
    "    true_set = frozenset(true_list)\n",
    "    predicted_list = predicted_list[:k]\n",
    "    precisions = []\n",
    "    for i,doc_id in enumerate(predicted_list):        \n",
    "        if doc_id in true_set:\n",
    "            prec = (len(precisions)+1) / (i+1)            \n",
    "            precisions.append(prec)\n",
    "    if len(precisions) == 0:\n",
    "        return 0.0\n",
    "    return round(sum(precisions)/len(precisions),3)"
   ]
  },
  {
   "cell_type": "code",
   "execution_count": null,
   "metadata": {
    "id": "dYmNTq9u0ChK"
   },
   "outputs": [],
   "source": [
    "import requests\n",
    "from time import time\n",
    "# url = 'http://35.232.59.3:8080'\n",
    "# place the domain you got from ngrok or GCP IP below. \n",
    "url = 'http://b4e3-34-86-221-19.ngrok.io'\n",
    "\n",
    "qs_res = []\n",
    "for q, true_wids in queries.items():\n",
    "  duration, ap = None, None\n",
    "  t_start = time()\n",
    "  try:\n",
    "    res = requests.get(url + '/search_body', {'query': q}, timeout=35)\n",
    "    duration = time() - t_start\n",
    "    if res.status_code == 200:\n",
    "      pred_wids, _ = zip(*res.json())\n",
    "      ap = average_precision(true_wids, pred_wids)\n",
    "  except:\n",
    "    pass\n",
    "  \n",
    "  qs_res.append((q, duration, ap))"
   ]
  },
  {
   "cell_type": "code",
   "execution_count": null,
   "metadata": {
    "id": "bYeMEZNSBK36"
   },
   "outputs": [],
   "source": [
    "#print(res.text)\n",
    "print(qs_res)"
   ]
  }
 ],
 "metadata": {
  "colab": {
   "collapsed_sections": [],
   "name": "run_frontend_in_colab__updated.ipynb",
   "provenance": []
  },
  "kernelspec": {
   "display_name": "Python 3",
   "language": "python",
   "name": "python3"
  },
  "language_info": {
   "codemirror_mode": {
    "name": "ipython",
    "version": 3
   },
   "file_extension": ".py",
   "mimetype": "text/x-python",
   "name": "python",
   "nbconvert_exporter": "python",
   "pygments_lexer": "ipython3",
   "version": "3.8.12"
  }
 },
 "nbformat": 4,
 "nbformat_minor": 1
}
