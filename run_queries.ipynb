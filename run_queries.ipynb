{
  "nbformat": 4,
  "nbformat_minor": 0,
  "metadata": {
    "colab": {
      "name": "Untitled1.ipynb",
      "provenance": [],
      "collapsed_sections": []
    },
    "kernelspec": {
      "name": "python3",
      "display_name": "Python 3"
    },
    "language_info": {
      "name": "python"
    }
  },
  "cells": [
    {
      "cell_type": "code",
      "execution_count": 8,
      "metadata": {
        "colab": {
          "base_uri": "https://localhost:8080/"
        },
        "id": "6-mxnPISn9j_",
        "outputId": "f0078834-82c0-42c0-a4ac-2ac3b0fb6eb0"
      },
      "outputs": [
        {
          "output_type": "stream",
          "name": "stdout",
          "text": [
            "[[1019,\"August 6\"],[1437,\"Abraxas\"],[1504,\"Albert\"],[1688,\"Alphons\"],[848,\"Audi\"],[780,\"Atlas (disambiguation)\"],[1261,\"April 26\"],[1428,\"Adrian\"],[800,\"Anime\"],[931,\"The Amazing Spider-Man\"],[1254,\"August 1\"],[1271,\"Analytical Engine\"],[1460,\"Asgard\"],[1569,\"Ajax\"],[2397,\"Anthony Hopkins\"],[358,\"Algeria\"],[624,\"Alaska\"],[752,\"Art\"],[852,\"Alexander Graham Bell\"],[869,\"American Film Institute\"],[1029,\"Albert Schweitzer\"],[1135,\"Abner Doubleday\"],[1164,\"Artificial intelligence\"],[1178,\"Afterlife\"],[1425,\"Antonio Vivaldi\"],[1461,\"Apollo program\"],[1644,\"Algiers\"],[1777,\"April 2\"],[1812,\"Amway\"],[1893,\"Albert Spalding\"],[2047,\"Alcoholics Anonymous\"],[2210,\"Folklore of the United States\"],[2357,\"American Football League\"],[2433,\"Alberto Giacometti\"],[872,\"Akira Kurosawa\"],[880,\"ABBA\"],[339,\"Ayn Rand\"],[1331,\"Arabian Prince\"],[1162,\"Accordion\"],[2310,\"Arthur Miller\"],[1002,\"Miss Marple\"],[1770,\"Apollo 13\"],[2075,\"Aircraft hijacking\"],[2241,\"Antonio Salieri\"],[2152,\"All Quiet on the Western Front\"],[1806,\"Arnold Schwarzenegger\"],[1881,\"Art Deco\"],[738,\"Albania\"],[1980,\"Amiga\"],[2314,\"Anita Hill\"],[2338,\"Rise and Fall of the City of Mahagonny\"],[864,\"Andy Warhol\"],[2144,\"Aaliyah\"],[344,\"Allan Dwan\"],[630,\"Ada\"],[665,\"A Modest Proposal\"],[713,\"Android (robot)\"],[1155,\"Atlantic (disambiguation)\"],[1203,\"Alternate history\"],[1213,\"Actaeon\"],[1304,\"Abduction\"],[1325,\"Casa Mil\\u00e0\"],[1372,\"Amber\"],[1383,\"Alder\"],[1446,\"Acapulco\"],[1558,\"American Chinese cuisine\"],[1711,\"August 31\"],[1778,\"Acetylene\"],[1884,\"ASCII art\"],[1934,\"Abadan, Iran\"],[1965,\"Apollo 1\"],[1970,\"Apollo 16\"],[2101,\"Asterix\"],[2106,\"Ansible\"],[2162,\"Afrikaans\"],[2321,\"Area 51\"],[330,\"Actrius\"],[663,\"Apollo 8\"],[1348,\"AK-47\"],[593,\"Animation\"],[1038,\"Aarhus\"],[1998,\"Austin, Texas\"],[2339,\"Avery Hopwood\"],[808,\"Alfred Hitchcock\"],[676,\"Andrei Tarkovsky\"],[843,\"A Clockwork Orange (novel)\"],[2411,\"A cappella\"],[1950,\"American Civil Liberties Union\"],[324,\"Academy Awards\"],[316,\"Academy Award for Best Production Design\"],[1017,\"Allen Ginsberg\"],[1828,\"Amitabh Bachchan\"],[1247,\"Alfonso Cuar\\u00f3n\"],[12,\"Anarchism\"],[25,\"Autism\"],[290,\"A\"],[303,\"Alabama\"],[305,\"Achilles\"],[307,\"Abraham Lincoln\"],[308,\"Aristotle\"]]\n",
            "\n",
            "[[316,\"Academy Award for Best Production Design\"],[2397,\"Anthony Hopkins\"],[800,\"Anime\"],[931,\"The Amazing Spider-Man\"],[1569,\"Ajax\"],[1460,\"Asgard\"],[848,\"Audi\"],[780,\"Atlas (disambiguation)\"],[1428,\"Adrian\"],[1688,\"Alphons\"],[1254,\"August 1\"],[1261,\"April 26\"],[1271,\"Analytical Engine\"],[1437,\"Abraxas\"],[1504,\"Albert\"],[1019,\"August 6\"],[324,\"Academy Awards\"],[1247,\"Alfonso Cuar\\u00f3n\"],[1828,\"Amitabh Bachchan\"],[1298,\"Ames, Iowa\"],[593,\"Animation\"],[872,\"Akira Kurosawa\"],[2126,\"Ani DiFranco\"],[808,\"Alfred Hitchcock\"],[595,\"Andre Agassi\"],[2144,\"Aaliyah\"],[880,\"ABBA\"],[984,\"Agatha Christie\"],[1627,\"Aberdeen\"],[1975,\"Alan Ayckbourn\"],[620,\"Animal Farm\"],[1017,\"Allen Ginsberg\"],[2215,\"Sid Meier's Alpha Centauri\"],[844,\"Amsterdam\"],[1950,\"American Civil Liberties Union\"],[1020,\"Anatoly Karpov\"],[2140,\"Atlanta Braves\"],[676,\"Andrei Tarkovsky\"],[1859,\"Arizona State University\"],[843,\"A Clockwork Orange (novel)\"],[856,\"Apple Inc.\"],[1881,\"Art Deco\"],[2411,\"A cappella\"],[1022,\"Auto racing\"],[1038,\"Aarhus\"],[2080,\"A Fire Upon the Deep\"],[2088,\"Aphasia\"],[2152,\"All Quiet on the Western Front\"],[1132,\"The Ashes\"],[2273,\"AFC Ajax\"],[2286,\"Tank destroyer\"],[2339,\"Avery Hopwood\"],[888,\"A. E. van Vogt\"],[1998,\"Austin, Texas\"],[1000,\"Hercule Poirot\"],[1078,\"Antisemitism\"],[663,\"Apollo 8\"],[701,\"Angola\"],[1216,\"Athens\"],[738,\"Albania\"],[1806,\"Arnold Schwarzenegger\"],[1814,\"Adam Smith\"],[2338,\"Rise and Fall of the City of Mahagonny\"],[308,\"Aristotle\"],[1347,\"Allosaurus\"],[1348,\"AK-47\"],[330,\"Actrius\"],[1866,\"Alarums and Excursions\"],[2405,\"Aon (company)\"],[1938,\"Andrew Carnegie\"],[1948,\"Ally McBeal\"],[980,\"August Derleth\"],[1064,\"Almond\"],[1592,\"Alexander III of Russia\"],[1623,\"Andrew Jackson\"],[2154,\"African Americans\"],[2167,\"Alford plea\"],[1162,\"Accordion\"],[2208,\"Arctic fox\"],[700,\"Arthur Schopenhauer\"],[737,\"Afghanistan\"],[1260,\"Advanced Encryption Standard\"],[2310,\"Arthur Miller\"],[775,\"Algorithm\"],[1307,\"The Alan Parsons Project\"],[803,\"Arabic\"],[1842,\"Augustin-Louis Cauchy\"],[1845,\"Alternative medicine\"],[2358,\"A.S. Roma\"],[859,\"Aztlan Underground\"],[864,\"Andy Warhol\"],[2440,\"Albrecht Altdorfer\"],[2447,\"Anton Chekhov\"],[924,\"A. A. Milne\"],[2003,\"Argument from morality\"],[1494,\"Alfred Russel Wallace\"],[2030,\"Augustine of Hippo\"],[25,\"Autism\"],[332,\"Animalia (book)\"],[339,\"Ayn Rand\"]]\n",
            "\n"
          ]
        }
      ],
      "source": [
        "import requests\n",
        "#res= requests.post('http://72cc-35-236-154-68.ngrok.io/get_pageview', json=[25659792, 50404581, 29178, 3080697, 90267])\n",
        "res= requests.get('http://476e-35-245-125-86.ngrok.io/search_body?query=best+marvel+movie')\n",
        "print(res.text)\n",
        "res= requests.get('http://476e-35-245-125-86.ngrok.io/search?query=best+marvel+movie')\n",
        "print(res.text)\n"
      ]
    }
  ]
}